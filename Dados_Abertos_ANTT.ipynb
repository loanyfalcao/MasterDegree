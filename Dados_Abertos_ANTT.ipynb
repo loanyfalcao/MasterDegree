{
 "cells": [
  {
   "metadata": {},
   "cell_type": "markdown",
   "source": [
    "Os dados de trafego foram obtidos por dados abertos da ANTT\n",
    "https://dados.antt.gov.br/dataset/volume-trafego-equivalente-praca-pedagio"
   ],
   "id": "e4014e1e9a4f2ae6"
  },
  {
   "cell_type": "code",
   "id": "initial_id",
   "metadata": {
    "collapsed": true,
    "ExecuteTime": {
     "end_time": "2024-04-22T23:07:41.871763Z",
     "start_time": "2024-04-22T23:07:40.643196Z"
    }
   },
   "source": [
    "import datetime as dt\n",
    "import pandas as pd\n",
    "import os\n",
    "import glob\n",
    "import numpy as np\n",
    "\n",
    "\n",
    "def unir_arquivos(url):\n",
    "    diretorio_atual = os.getcwd()\n",
    "\n",
    "    extension = 'csv'\n",
    "    os.chdir(url)\n",
    "    all_filenames = [i for i in glob.glob('*.{}'.format(extension))]\n",
    "\n",
    "    dfs = []\n",
    "    for filename in all_filenames:\n",
    "        df_temp = pd.read_csv(filename, sep=';', encoding='latin1')\n",
    "        dfs.append(df_temp)\n",
    "\n",
    "    df = pd.concat(dfs, ignore_index=True)\n",
    "\n",
    "    os.chdir(diretorio_atual)\n",
    "\n",
    "    return df\n",
    "\n",
    "df_pedagio = unir_arquivos('C:/Users/Public/Documents/PythonScripts/Mestrado/DadosIniciais/Volume_Trafego')\n"
   ],
   "outputs": [],
   "execution_count": 32
  },
  {
   "metadata": {
    "ExecuteTime": {
     "end_time": "2024-04-22T23:07:41.925432Z",
     "start_time": "2024-04-22T23:07:41.875761Z"
    }
   },
   "cell_type": "code",
   "source": "df_pedagio.head()",
   "id": "4f575b008307a001",
   "outputs": [
    {
     "data": {
      "text/plain": [
       "   concessionaria     mes_ano      sentido                          praca  \\\n",
       "0  RODOVIA DO AÇO  01-01-2010  Decrescente  Praça 01  BR-393/RJ km 125,00   \n",
       "1  RODOVIA DO AÇO  01-01-2010    Crescente  Praça 01  BR-393/RJ km 125,00   \n",
       "2  RODOVIA DO AÇO  01-02-2010  Decrescente  Praça 01  BR-393/RJ km 125,00   \n",
       "3  RODOVIA DO AÇO  01-02-2010    Crescente  Praça 01  BR-393/RJ km 125,00   \n",
       "4  RODOVIA DO AÇO  01-03-2010  Decrescente  Praça 01  BR-393/RJ km 125,00   \n",
       "\n",
       "     categoria tipo_de_veiculo volume_total multiplicador_de_tarifa  \\\n",
       "0  Categoria 1         Passeio        44146                       1   \n",
       "1  Categoria 1         Passeio        35771                       1   \n",
       "2  Categoria 1         Passeio        33455                       1   \n",
       "3  Categoria 1         Passeio        27109                       1   \n",
       "4  Categoria 1         Passeio        31677                       1   \n",
       "\n",
       "  volume_veiculo_equivalente tipo_de_cobranca  \n",
       "0                      44146              NaN  \n",
       "1                      35771              NaN  \n",
       "2                      33455              NaN  \n",
       "3                      27109              NaN  \n",
       "4                      31677              NaN  "
      ],
      "text/html": [
       "<div>\n",
       "<style scoped>\n",
       "    .dataframe tbody tr th:only-of-type {\n",
       "        vertical-align: middle;\n",
       "    }\n",
       "\n",
       "    .dataframe tbody tr th {\n",
       "        vertical-align: top;\n",
       "    }\n",
       "\n",
       "    .dataframe thead th {\n",
       "        text-align: right;\n",
       "    }\n",
       "</style>\n",
       "<table border=\"1\" class=\"dataframe\">\n",
       "  <thead>\n",
       "    <tr style=\"text-align: right;\">\n",
       "      <th></th>\n",
       "      <th>concessionaria</th>\n",
       "      <th>mes_ano</th>\n",
       "      <th>sentido</th>\n",
       "      <th>praca</th>\n",
       "      <th>categoria</th>\n",
       "      <th>tipo_de_veiculo</th>\n",
       "      <th>volume_total</th>\n",
       "      <th>multiplicador_de_tarifa</th>\n",
       "      <th>volume_veiculo_equivalente</th>\n",
       "      <th>tipo_de_cobranca</th>\n",
       "    </tr>\n",
       "  </thead>\n",
       "  <tbody>\n",
       "    <tr>\n",
       "      <th>0</th>\n",
       "      <td>RODOVIA DO AÇO</td>\n",
       "      <td>01-01-2010</td>\n",
       "      <td>Decrescente</td>\n",
       "      <td>Praça 01  BR-393/RJ km 125,00</td>\n",
       "      <td>Categoria 1</td>\n",
       "      <td>Passeio</td>\n",
       "      <td>44146</td>\n",
       "      <td>1</td>\n",
       "      <td>44146</td>\n",
       "      <td>NaN</td>\n",
       "    </tr>\n",
       "    <tr>\n",
       "      <th>1</th>\n",
       "      <td>RODOVIA DO AÇO</td>\n",
       "      <td>01-01-2010</td>\n",
       "      <td>Crescente</td>\n",
       "      <td>Praça 01  BR-393/RJ km 125,00</td>\n",
       "      <td>Categoria 1</td>\n",
       "      <td>Passeio</td>\n",
       "      <td>35771</td>\n",
       "      <td>1</td>\n",
       "      <td>35771</td>\n",
       "      <td>NaN</td>\n",
       "    </tr>\n",
       "    <tr>\n",
       "      <th>2</th>\n",
       "      <td>RODOVIA DO AÇO</td>\n",
       "      <td>01-02-2010</td>\n",
       "      <td>Decrescente</td>\n",
       "      <td>Praça 01  BR-393/RJ km 125,00</td>\n",
       "      <td>Categoria 1</td>\n",
       "      <td>Passeio</td>\n",
       "      <td>33455</td>\n",
       "      <td>1</td>\n",
       "      <td>33455</td>\n",
       "      <td>NaN</td>\n",
       "    </tr>\n",
       "    <tr>\n",
       "      <th>3</th>\n",
       "      <td>RODOVIA DO AÇO</td>\n",
       "      <td>01-02-2010</td>\n",
       "      <td>Crescente</td>\n",
       "      <td>Praça 01  BR-393/RJ km 125,00</td>\n",
       "      <td>Categoria 1</td>\n",
       "      <td>Passeio</td>\n",
       "      <td>27109</td>\n",
       "      <td>1</td>\n",
       "      <td>27109</td>\n",
       "      <td>NaN</td>\n",
       "    </tr>\n",
       "    <tr>\n",
       "      <th>4</th>\n",
       "      <td>RODOVIA DO AÇO</td>\n",
       "      <td>01-03-2010</td>\n",
       "      <td>Decrescente</td>\n",
       "      <td>Praça 01  BR-393/RJ km 125,00</td>\n",
       "      <td>Categoria 1</td>\n",
       "      <td>Passeio</td>\n",
       "      <td>31677</td>\n",
       "      <td>1</td>\n",
       "      <td>31677</td>\n",
       "      <td>NaN</td>\n",
       "    </tr>\n",
       "  </tbody>\n",
       "</table>\n",
       "</div>"
      ]
     },
     "execution_count": 33,
     "metadata": {},
     "output_type": "execute_result"
    }
   ],
   "execution_count": 33
  },
  {
   "metadata": {},
   "cell_type": "markdown",
   "source": "Analise das concessionarias presentes no arquivo. Como a Arteris possui apenas 5 concessionarias presentes nos dados, as demais foram eliminadas",
   "id": "febf24e29f8a58fc"
  },
  {
   "metadata": {
    "ExecuteTime": {
     "end_time": "2024-04-22T23:07:41.995291Z",
     "start_time": "2024-04-22T23:07:41.929647Z"
    }
   },
   "cell_type": "code",
   "source": "df_pedagio.concessionaria.value_counts()",
   "id": "9a5cdbda19f1d085",
   "outputs": [
    {
     "data": {
      "text/plain": [
       "concessionaria\n",
       "CONCEBRA                                 198116\n",
       "NOVADUTRA                                 27794\n",
       "VIA 040                                   25960\n",
       "AUTOPISTA FERNÃO DIAS                     24800\n",
       "MSVIA                                     22176\n",
       "CRO                                       21475\n",
       "VIA BAHIA                                 20160\n",
       "AUTOPISTA REGIS BITTENCOURT               18600\n",
       "ECOSUL                                    15600\n",
       "AUTOPISTA PLANALTO SUL                    15500\n",
       "AUTOPISTA LITORAL SUL                     15500\n",
       "ECO050                                    15231\n",
       "ECO101 CONCESSIONARIA DE RODOVIAS S/A     14560\n",
       "AUTOPISTA FLUMINENSE                      14230\n",
       "TRANSBRASILIANA                           12480\n",
       "CRT                                       11016\n",
       "RODOVIA DO AÇO                             9300\n",
       "CONCER                                     9300\n",
       "Concebra                                   7901\n",
       "VIA SUL                                    7728\n",
       "ECOVIAS DO CERRADO                         4294\n",
       "CONCEPA                                    4120\n",
       "RIOSP                                      2080\n",
       "VIA COSTEIRA                               1344\n",
       "ECOPONTE                                   1274\n",
       "ECOVIAS DO ARAGUAIA                         702\n",
       "EcoRioMinas                                 216\n",
       "Autopista Regis Bittencourt                 120\n",
       "Autopista Planalto Sul                      100\n",
       "Autopista Litoral Sul                       100\n",
       "Ecosul                                      100\n",
       "Autopista Fluminense                        100\n",
       "Concer                                       60\n",
       "Rodovia do Aço                               60\n",
       "Name: count, dtype: int64"
      ]
     },
     "execution_count": 34,
     "metadata": {},
     "output_type": "execute_result"
    }
   ],
   "execution_count": 34
  },
  {
   "metadata": {
    "ExecuteTime": {
     "end_time": "2024-04-22T23:07:42.269240Z",
     "start_time": "2024-04-22T23:07:41.997293Z"
    }
   },
   "cell_type": "code",
   "source": [
    "concessionaria = {'AUTOPISTA FLUMINENSE': 'Fluminense', 'Autopista Fluminense': 'Fluminense',\n",
    "                      'AUTOPISTA PLANALTO SUL': 'Planalto Sul', 'Autopista Planalto Sul': 'Planalto Sul',\n",
    "                      'AUTOPISTA FERNÃO DIAS': 'Fernão Dias',\n",
    "                      'AUTOPISTA LITORAL SUL': 'Litoral Sul', 'Autopista Litoral Sul': 'Litoral Sul',\n",
    "                      'AUTOPISTA REGIS BITTENCOURT': 'Régis Bittencourt',\n",
    "                      'Autopista Regis Bittencourt': 'Régis Bittencourt'}\n",
    "df_pedagio['concessionaria'] = df_pedagio['concessionaria'].replace(concessionaria)\n",
    "\n",
    "df_pedagio = df_pedagio.query('concessionaria == \"Fernão Dias\" or concessionaria == \"Fluminense\" or concessionaria == \"Litoral Sul\" or concessionaria == \"Planalto Sul\" or concessionaria == \"Régis Bittencourt\"')"
   ],
   "id": "353e156fd23bfd6a",
   "outputs": [],
   "execution_count": 35
  },
  {
   "metadata": {
    "ExecuteTime": {
     "end_time": "2024-04-22T23:07:42.284075Z",
     "start_time": "2024-04-22T23:07:42.271332Z"
    }
   },
   "cell_type": "code",
   "source": "df_pedagio['concessionaria'].value_counts()",
   "id": "af3346d292693383",
   "outputs": [
    {
     "data": {
      "text/plain": [
       "concessionaria\n",
       "Fernão Dias          24800\n",
       "Régis Bittencourt    18720\n",
       "Planalto Sul         15600\n",
       "Litoral Sul          15600\n",
       "Fluminense           14330\n",
       "Name: count, dtype: int64"
      ]
     },
     "execution_count": 36,
     "metadata": {},
     "output_type": "execute_result"
    }
   ],
   "execution_count": 36
  },
  {
   "metadata": {},
   "cell_type": "markdown",
   "source": "tratando a coluna de data",
   "id": "f68f1db15194adb9"
  },
  {
   "metadata": {
    "ExecuteTime": {
     "end_time": "2024-04-22T23:07:42.377361Z",
     "start_time": "2024-04-22T23:07:42.286078Z"
    }
   },
   "cell_type": "code",
   "source": "df_pedagio.info()",
   "id": "3ecaa6a06ffedc44",
   "outputs": [
    {
     "name": "stdout",
     "output_type": "stream",
     "text": [
      "<class 'pandas.core.frame.DataFrame'>\n",
      "Index: 89050 entries, 720 to 397000\n",
      "Data columns (total 10 columns):\n",
      " #   Column                      Non-Null Count  Dtype \n",
      "---  ------                      --------------  ----- \n",
      " 0   concessionaria              89050 non-null  object\n",
      " 1   mes_ano                     89050 non-null  object\n",
      " 2   sentido                     89050 non-null  object\n",
      " 3   praca                       89050 non-null  object\n",
      " 4   categoria                   89050 non-null  object\n",
      " 5   tipo_de_veiculo             89050 non-null  object\n",
      " 6   volume_total                89050 non-null  object\n",
      " 7   multiplicador_de_tarifa     89050 non-null  object\n",
      " 8   volume_veiculo_equivalente  89050 non-null  object\n",
      " 9   tipo_de_cobranca            55010 non-null  object\n",
      "dtypes: object(10)\n",
      "memory usage: 7.5+ MB\n"
     ]
    }
   ],
   "execution_count": 37
  },
  {
   "metadata": {
    "ExecuteTime": {
     "end_time": "2024-04-22T23:07:42.505143Z",
     "start_time": "2024-04-22T23:07:42.379450Z"
    }
   },
   "cell_type": "code",
   "source": [
    "df_pedagio['mes_ano'] = df_pedagio['mes_ano'].str.replace('/', '-')\n",
    "df_pedagio['mes_ano'] = pd.to_datetime(df_pedagio['mes_ano'])\n",
    "df_pedagio['ano'] = df_pedagio['mes_ano'].dt.year\n",
    "df_pedagio['mes'] = df_pedagio['mes_ano'].dt.day\n",
    "df_pedagio.head()"
   ],
   "id": "3c07fae25add55a8",
   "outputs": [
    {
     "data": {
      "text/plain": [
       "    concessionaria    mes_ano      sentido                        praca  \\\n",
       "720     Fluminense 2010-01-01    Crescente  Praça 01 BR-101/RJ km 40,54   \n",
       "721     Fluminense 2010-01-01  Decrescente  Praça 01 BR-101/RJ km 40,54   \n",
       "722     Fluminense 2010-01-02    Crescente  Praça 01 BR-101/RJ km 40,54   \n",
       "723     Fluminense 2010-01-02  Decrescente  Praça 01 BR-101/RJ km 40,54   \n",
       "724     Fluminense 2010-01-03    Crescente  Praça 01 BR-101/RJ km 40,54   \n",
       "\n",
       "       categoria tipo_de_veiculo volume_total multiplicador_de_tarifa  \\\n",
       "720  Categoria 1         Passeio        71523                       1   \n",
       "721  Categoria 1         Passeio        63076                       1   \n",
       "722  Categoria 1         Passeio        55815                       1   \n",
       "723  Categoria 1         Passeio        53372                       1   \n",
       "724  Categoria 1         Passeio        41008                       1   \n",
       "\n",
       "    volume_veiculo_equivalente tipo_de_cobranca   ano  mes  \n",
       "720                      71523              NaN  2010    1  \n",
       "721                      63076              NaN  2010    1  \n",
       "722                      55815              NaN  2010    2  \n",
       "723                      53372              NaN  2010    2  \n",
       "724                      41008              NaN  2010    3  "
      ],
      "text/html": [
       "<div>\n",
       "<style scoped>\n",
       "    .dataframe tbody tr th:only-of-type {\n",
       "        vertical-align: middle;\n",
       "    }\n",
       "\n",
       "    .dataframe tbody tr th {\n",
       "        vertical-align: top;\n",
       "    }\n",
       "\n",
       "    .dataframe thead th {\n",
       "        text-align: right;\n",
       "    }\n",
       "</style>\n",
       "<table border=\"1\" class=\"dataframe\">\n",
       "  <thead>\n",
       "    <tr style=\"text-align: right;\">\n",
       "      <th></th>\n",
       "      <th>concessionaria</th>\n",
       "      <th>mes_ano</th>\n",
       "      <th>sentido</th>\n",
       "      <th>praca</th>\n",
       "      <th>categoria</th>\n",
       "      <th>tipo_de_veiculo</th>\n",
       "      <th>volume_total</th>\n",
       "      <th>multiplicador_de_tarifa</th>\n",
       "      <th>volume_veiculo_equivalente</th>\n",
       "      <th>tipo_de_cobranca</th>\n",
       "      <th>ano</th>\n",
       "      <th>mes</th>\n",
       "    </tr>\n",
       "  </thead>\n",
       "  <tbody>\n",
       "    <tr>\n",
       "      <th>720</th>\n",
       "      <td>Fluminense</td>\n",
       "      <td>2010-01-01</td>\n",
       "      <td>Crescente</td>\n",
       "      <td>Praça 01 BR-101/RJ km 40,54</td>\n",
       "      <td>Categoria 1</td>\n",
       "      <td>Passeio</td>\n",
       "      <td>71523</td>\n",
       "      <td>1</td>\n",
       "      <td>71523</td>\n",
       "      <td>NaN</td>\n",
       "      <td>2010</td>\n",
       "      <td>1</td>\n",
       "    </tr>\n",
       "    <tr>\n",
       "      <th>721</th>\n",
       "      <td>Fluminense</td>\n",
       "      <td>2010-01-01</td>\n",
       "      <td>Decrescente</td>\n",
       "      <td>Praça 01 BR-101/RJ km 40,54</td>\n",
       "      <td>Categoria 1</td>\n",
       "      <td>Passeio</td>\n",
       "      <td>63076</td>\n",
       "      <td>1</td>\n",
       "      <td>63076</td>\n",
       "      <td>NaN</td>\n",
       "      <td>2010</td>\n",
       "      <td>1</td>\n",
       "    </tr>\n",
       "    <tr>\n",
       "      <th>722</th>\n",
       "      <td>Fluminense</td>\n",
       "      <td>2010-01-02</td>\n",
       "      <td>Crescente</td>\n",
       "      <td>Praça 01 BR-101/RJ km 40,54</td>\n",
       "      <td>Categoria 1</td>\n",
       "      <td>Passeio</td>\n",
       "      <td>55815</td>\n",
       "      <td>1</td>\n",
       "      <td>55815</td>\n",
       "      <td>NaN</td>\n",
       "      <td>2010</td>\n",
       "      <td>2</td>\n",
       "    </tr>\n",
       "    <tr>\n",
       "      <th>723</th>\n",
       "      <td>Fluminense</td>\n",
       "      <td>2010-01-02</td>\n",
       "      <td>Decrescente</td>\n",
       "      <td>Praça 01 BR-101/RJ km 40,54</td>\n",
       "      <td>Categoria 1</td>\n",
       "      <td>Passeio</td>\n",
       "      <td>53372</td>\n",
       "      <td>1</td>\n",
       "      <td>53372</td>\n",
       "      <td>NaN</td>\n",
       "      <td>2010</td>\n",
       "      <td>2</td>\n",
       "    </tr>\n",
       "    <tr>\n",
       "      <th>724</th>\n",
       "      <td>Fluminense</td>\n",
       "      <td>2010-01-03</td>\n",
       "      <td>Crescente</td>\n",
       "      <td>Praça 01 BR-101/RJ km 40,54</td>\n",
       "      <td>Categoria 1</td>\n",
       "      <td>Passeio</td>\n",
       "      <td>41008</td>\n",
       "      <td>1</td>\n",
       "      <td>41008</td>\n",
       "      <td>NaN</td>\n",
       "      <td>2010</td>\n",
       "      <td>3</td>\n",
       "    </tr>\n",
       "  </tbody>\n",
       "</table>\n",
       "</div>"
      ]
     },
     "execution_count": 38,
     "metadata": {},
     "output_type": "execute_result"
    }
   ],
   "execution_count": 38
  },
  {
   "metadata": {
    "ExecuteTime": {
     "end_time": "2024-04-22T23:07:42.530020Z",
     "start_time": "2024-04-22T23:07:42.506150Z"
    }
   },
   "cell_type": "code",
   "source": "df_pedagio['sentido'] = df_pedagio['sentido'].replace({'Decrescente': 'N', 'Decrescente ': 'N', 'Crescente': 'S', 'Crescente ': 'S'})",
   "id": "45c7a8e581246323",
   "outputs": [],
   "execution_count": 39
  },
  {
   "metadata": {},
   "cell_type": "markdown",
   "source": "Ajustando praça de pedagio",
   "id": "4843c7e880e6fffc"
  },
  {
   "metadata": {
    "ExecuteTime": {
     "end_time": "2024-04-22T23:07:42.538058Z",
     "start_time": "2024-04-22T23:07:42.531547Z"
    }
   },
   "cell_type": "code",
   "source": "df_pedagio['praca'].head()",
   "id": "9f80a00a55d29ea7",
   "outputs": [
    {
     "data": {
      "text/plain": [
       "720    Praça 01 BR-101/RJ km 40,54\n",
       "721    Praça 01 BR-101/RJ km 40,54\n",
       "722    Praça 01 BR-101/RJ km 40,54\n",
       "723    Praça 01 BR-101/RJ km 40,54\n",
       "724    Praça 01 BR-101/RJ km 40,54\n",
       "Name: praca, dtype: object"
      ]
     },
     "execution_count": 40,
     "metadata": {},
     "output_type": "execute_result"
    }
   ],
   "execution_count": 40
  },
  {
   "metadata": {
    "ExecuteTime": {
     "end_time": "2024-04-22T23:07:44.239397Z",
     "start_time": "2024-04-22T23:07:42.542075Z"
    }
   },
   "cell_type": "code",
   "source": [
    "def ajustando_praca(df):\n",
    "    df.rename(columns={'praca': 'info_praca'}, inplace=True)\n",
    "    df['praca'] = df['info_praca'].str[:8]\n",
    "    df['rodovia'] = df['info_praca'].str.rsplit(' ').str[2]\n",
    "    df['km_praca'] = df['info_praca'].str.rsplit(' ').str[-1]\n",
    "    df.loc[(df['km_praca'] == \"\"), 'km_praca'] = df['info_praca'].str.rsplit(' ').str[4]\n",
    "    \n",
    "    return df\n",
    "\n",
    "df_pedagio = ajustando_praca(df_pedagio)"
   ],
   "id": "89b5fe3fbe07e761",
   "outputs": [],
   "execution_count": 41
  },
  {
   "metadata": {
    "ExecuteTime": {
     "end_time": "2024-04-22T23:07:44.258525Z",
     "start_time": "2024-04-22T23:07:44.240401Z"
    }
   },
   "cell_type": "code",
   "source": "df_pedagio[['info_praca', 'praca', 'rodovia', 'km_praca']]",
   "id": "34a24670492a7007",
   "outputs": [
    {
     "data": {
      "text/plain": [
       "                         info_praca     praca    rodovia km_praca\n",
       "720     Praça 01 BR-101/RJ km 40,54  Praça 01  BR-101/RJ    40,54\n",
       "721     Praça 01 BR-101/RJ km 40,54  Praça 01  BR-101/RJ    40,54\n",
       "722     Praça 01 BR-101/RJ km 40,54  Praça 01  BR-101/RJ    40,54\n",
       "723     Praça 01 BR-101/RJ km 40,54  Praça 01  BR-101/RJ    40,54\n",
       "724     Praça 01 BR-101/RJ km 40,54  Praça 01  BR-101/RJ    40,54\n",
       "...                             ...       ...        ...      ...\n",
       "396996  Praça 06 BR-116/PR km 57,10  Praça 06  BR-116/PR    57,10\n",
       "396997  Praça 06 BR-116/PR km 57,10  Praça 06  BR-116/PR    57,10\n",
       "396998  Praça 06 BR-116/PR km 57,10  Praça 06  BR-116/PR    57,10\n",
       "396999  Praça 06 BR-116/PR km 57,10  Praça 06  BR-116/PR    57,10\n",
       "397000  Praça 06 BR-116/PR km 57,10  Praça 06  BR-116/PR    57,10\n",
       "\n",
       "[89050 rows x 4 columns]"
      ],
      "text/html": [
       "<div>\n",
       "<style scoped>\n",
       "    .dataframe tbody tr th:only-of-type {\n",
       "        vertical-align: middle;\n",
       "    }\n",
       "\n",
       "    .dataframe tbody tr th {\n",
       "        vertical-align: top;\n",
       "    }\n",
       "\n",
       "    .dataframe thead th {\n",
       "        text-align: right;\n",
       "    }\n",
       "</style>\n",
       "<table border=\"1\" class=\"dataframe\">\n",
       "  <thead>\n",
       "    <tr style=\"text-align: right;\">\n",
       "      <th></th>\n",
       "      <th>info_praca</th>\n",
       "      <th>praca</th>\n",
       "      <th>rodovia</th>\n",
       "      <th>km_praca</th>\n",
       "    </tr>\n",
       "  </thead>\n",
       "  <tbody>\n",
       "    <tr>\n",
       "      <th>720</th>\n",
       "      <td>Praça 01 BR-101/RJ km 40,54</td>\n",
       "      <td>Praça 01</td>\n",
       "      <td>BR-101/RJ</td>\n",
       "      <td>40,54</td>\n",
       "    </tr>\n",
       "    <tr>\n",
       "      <th>721</th>\n",
       "      <td>Praça 01 BR-101/RJ km 40,54</td>\n",
       "      <td>Praça 01</td>\n",
       "      <td>BR-101/RJ</td>\n",
       "      <td>40,54</td>\n",
       "    </tr>\n",
       "    <tr>\n",
       "      <th>722</th>\n",
       "      <td>Praça 01 BR-101/RJ km 40,54</td>\n",
       "      <td>Praça 01</td>\n",
       "      <td>BR-101/RJ</td>\n",
       "      <td>40,54</td>\n",
       "    </tr>\n",
       "    <tr>\n",
       "      <th>723</th>\n",
       "      <td>Praça 01 BR-101/RJ km 40,54</td>\n",
       "      <td>Praça 01</td>\n",
       "      <td>BR-101/RJ</td>\n",
       "      <td>40,54</td>\n",
       "    </tr>\n",
       "    <tr>\n",
       "      <th>724</th>\n",
       "      <td>Praça 01 BR-101/RJ km 40,54</td>\n",
       "      <td>Praça 01</td>\n",
       "      <td>BR-101/RJ</td>\n",
       "      <td>40,54</td>\n",
       "    </tr>\n",
       "    <tr>\n",
       "      <th>...</th>\n",
       "      <td>...</td>\n",
       "      <td>...</td>\n",
       "      <td>...</td>\n",
       "      <td>...</td>\n",
       "    </tr>\n",
       "    <tr>\n",
       "      <th>396996</th>\n",
       "      <td>Praça 06 BR-116/PR km 57,10</td>\n",
       "      <td>Praça 06</td>\n",
       "      <td>BR-116/PR</td>\n",
       "      <td>57,10</td>\n",
       "    </tr>\n",
       "    <tr>\n",
       "      <th>396997</th>\n",
       "      <td>Praça 06 BR-116/PR km 57,10</td>\n",
       "      <td>Praça 06</td>\n",
       "      <td>BR-116/PR</td>\n",
       "      <td>57,10</td>\n",
       "    </tr>\n",
       "    <tr>\n",
       "      <th>396998</th>\n",
       "      <td>Praça 06 BR-116/PR km 57,10</td>\n",
       "      <td>Praça 06</td>\n",
       "      <td>BR-116/PR</td>\n",
       "      <td>57,10</td>\n",
       "    </tr>\n",
       "    <tr>\n",
       "      <th>396999</th>\n",
       "      <td>Praça 06 BR-116/PR km 57,10</td>\n",
       "      <td>Praça 06</td>\n",
       "      <td>BR-116/PR</td>\n",
       "      <td>57,10</td>\n",
       "    </tr>\n",
       "    <tr>\n",
       "      <th>397000</th>\n",
       "      <td>Praça 06 BR-116/PR km 57,10</td>\n",
       "      <td>Praça 06</td>\n",
       "      <td>BR-116/PR</td>\n",
       "      <td>57,10</td>\n",
       "    </tr>\n",
       "  </tbody>\n",
       "</table>\n",
       "<p>89050 rows × 4 columns</p>\n",
       "</div>"
      ]
     },
     "execution_count": 42,
     "metadata": {},
     "output_type": "execute_result"
    }
   ],
   "execution_count": 42
  },
  {
   "metadata": {},
   "cell_type": "code",
   "source": [
    "def definindo_colunas(df):    \n",
    "    df = df[['ano', 'mes', 'concessionaria', 'info_praca', 'rodovia', 'sentido', 'praca', 'km_praca', 'volume_total', 'multiplicador_de_tarifa', 'volume_veiculo_equivalente']]\n",
    "    \n",
    "    df[['volume_veiculo_equivalente', 'volume_total']] = df[['volume_veiculo_equivalente', 'volume_total']].map(lambda x: x.replace(',', '.') if isinstance(x, str) and ',' in x else x)\n",
    "    df[['volume_veiculo_equivalente', 'volume_total']] = df[['volume_veiculo_equivalente', 'volume_total']].astype(float)\n",
    "    \n",
    "    return df\n",
    "\n",
    "df_pedagio = definindo_colunas(df_pedagio)"
   ],
   "id": "a2e2c693913c6b5e",
   "outputs": [],
   "execution_count": null
  },
  {
   "metadata": {},
   "cell_type": "markdown",
   "source": "Cada linha representa o numero equivalente e absoluto por tipo de veiculo por sentido por praça de pedágio. O objetivo é fazer com que cada linha seja a soma de todos os veiculos por sentido por praça de pedagio",
   "id": "a86fe67f6829a562"
  },
  {
   "metadata": {
    "ExecuteTime": {
     "end_time": "2024-04-22T23:07:44.603325Z",
     "start_time": "2024-04-22T23:07:44.400694Z"
    }
   },
   "cell_type": "code",
   "source": [
    "def calculo_volume(df):\n",
    "    df['Uniao'] = df['concessionaria'].astype(str) + '.' + df['praca'].astype(str) + '.' + df['ano'].astype(str) + '.' + df['mes'].astype(str) + '.' + df['sentido'].astype(str)\n",
    "\n",
    "    df['Volume_Equivalente'] = df.groupby('Uniao')['volume_veiculo_equivalente'].transform('sum')\n",
    "    df['Volume_Total'] = df.groupby('Uniao')['volume_total'].transform('sum')\n",
    "\n",
    "    df.drop_duplicates(subset=['Uniao'], inplace=True)\n",
    "    df.drop(columns=['info_praca', 'multiplicador_de_tarifa'], axis=1, inplace=True)\n",
    "\n",
    "    return df\n",
    "\n",
    "df_pedagio = calculo_volume(df_pedagio)\n",
    "\n",
    "df_pedagio.head()"
   ],
   "id": "4722d624ee7463a4",
   "outputs": [
    {
     "data": {
      "text/plain": [
       "      ano  mes concessionaria    rodovia sentido     praca km_praca  \\\n",
       "720  2010    1     Fluminense  BR-101/RJ       S  Praça 01    40,54   \n",
       "721  2010    1     Fluminense  BR-101/RJ       N  Praça 01    40,54   \n",
       "722  2010    2     Fluminense  BR-101/RJ       S  Praça 01    40,54   \n",
       "723  2010    2     Fluminense  BR-101/RJ       N  Praça 01    40,54   \n",
       "724  2010    3     Fluminense  BR-101/RJ       S  Praça 01    40,54   \n",
       "\n",
       "     volume_total  volume_veiculo_equivalente                         Uniao  \\\n",
       "720       71523.0                     71523.0  Fluminense.Praça 01.2010.1.S   \n",
       "721       63076.0                     63076.0  Fluminense.Praça 01.2010.1.N   \n",
       "722       55815.0                     55815.0  Fluminense.Praça 01.2010.2.S   \n",
       "723       53372.0                     53372.0  Fluminense.Praça 01.2010.2.N   \n",
       "724       41008.0                     41008.0  Fluminense.Praça 01.2010.3.S   \n",
       "\n",
       "     Volume_Equivalente  Volume_Total  \n",
       "720            236052.0      115574.0  \n",
       "721            213827.0      103653.0  \n",
       "722            209904.5       96649.0  \n",
       "723            196223.0       91367.0  \n",
       "724            217523.5       86570.0  "
      ],
      "text/html": [
       "<div>\n",
       "<style scoped>\n",
       "    .dataframe tbody tr th:only-of-type {\n",
       "        vertical-align: middle;\n",
       "    }\n",
       "\n",
       "    .dataframe tbody tr th {\n",
       "        vertical-align: top;\n",
       "    }\n",
       "\n",
       "    .dataframe thead th {\n",
       "        text-align: right;\n",
       "    }\n",
       "</style>\n",
       "<table border=\"1\" class=\"dataframe\">\n",
       "  <thead>\n",
       "    <tr style=\"text-align: right;\">\n",
       "      <th></th>\n",
       "      <th>ano</th>\n",
       "      <th>mes</th>\n",
       "      <th>concessionaria</th>\n",
       "      <th>rodovia</th>\n",
       "      <th>sentido</th>\n",
       "      <th>praca</th>\n",
       "      <th>km_praca</th>\n",
       "      <th>volume_total</th>\n",
       "      <th>volume_veiculo_equivalente</th>\n",
       "      <th>Uniao</th>\n",
       "      <th>Volume_Equivalente</th>\n",
       "      <th>Volume_Total</th>\n",
       "    </tr>\n",
       "  </thead>\n",
       "  <tbody>\n",
       "    <tr>\n",
       "      <th>720</th>\n",
       "      <td>2010</td>\n",
       "      <td>1</td>\n",
       "      <td>Fluminense</td>\n",
       "      <td>BR-101/RJ</td>\n",
       "      <td>S</td>\n",
       "      <td>Praça 01</td>\n",
       "      <td>40,54</td>\n",
       "      <td>71523.0</td>\n",
       "      <td>71523.0</td>\n",
       "      <td>Fluminense.Praça 01.2010.1.S</td>\n",
       "      <td>236052.0</td>\n",
       "      <td>115574.0</td>\n",
       "    </tr>\n",
       "    <tr>\n",
       "      <th>721</th>\n",
       "      <td>2010</td>\n",
       "      <td>1</td>\n",
       "      <td>Fluminense</td>\n",
       "      <td>BR-101/RJ</td>\n",
       "      <td>N</td>\n",
       "      <td>Praça 01</td>\n",
       "      <td>40,54</td>\n",
       "      <td>63076.0</td>\n",
       "      <td>63076.0</td>\n",
       "      <td>Fluminense.Praça 01.2010.1.N</td>\n",
       "      <td>213827.0</td>\n",
       "      <td>103653.0</td>\n",
       "    </tr>\n",
       "    <tr>\n",
       "      <th>722</th>\n",
       "      <td>2010</td>\n",
       "      <td>2</td>\n",
       "      <td>Fluminense</td>\n",
       "      <td>BR-101/RJ</td>\n",
       "      <td>S</td>\n",
       "      <td>Praça 01</td>\n",
       "      <td>40,54</td>\n",
       "      <td>55815.0</td>\n",
       "      <td>55815.0</td>\n",
       "      <td>Fluminense.Praça 01.2010.2.S</td>\n",
       "      <td>209904.5</td>\n",
       "      <td>96649.0</td>\n",
       "    </tr>\n",
       "    <tr>\n",
       "      <th>723</th>\n",
       "      <td>2010</td>\n",
       "      <td>2</td>\n",
       "      <td>Fluminense</td>\n",
       "      <td>BR-101/RJ</td>\n",
       "      <td>N</td>\n",
       "      <td>Praça 01</td>\n",
       "      <td>40,54</td>\n",
       "      <td>53372.0</td>\n",
       "      <td>53372.0</td>\n",
       "      <td>Fluminense.Praça 01.2010.2.N</td>\n",
       "      <td>196223.0</td>\n",
       "      <td>91367.0</td>\n",
       "    </tr>\n",
       "    <tr>\n",
       "      <th>724</th>\n",
       "      <td>2010</td>\n",
       "      <td>3</td>\n",
       "      <td>Fluminense</td>\n",
       "      <td>BR-101/RJ</td>\n",
       "      <td>S</td>\n",
       "      <td>Praça 01</td>\n",
       "      <td>40,54</td>\n",
       "      <td>41008.0</td>\n",
       "      <td>41008.0</td>\n",
       "      <td>Fluminense.Praça 01.2010.3.S</td>\n",
       "      <td>217523.5</td>\n",
       "      <td>86570.0</td>\n",
       "    </tr>\n",
       "  </tbody>\n",
       "</table>\n",
       "</div>"
      ]
     },
     "execution_count": 44,
     "metadata": {},
     "output_type": "execute_result"
    }
   ],
   "execution_count": 44
  },
  {
   "metadata": {},
   "cell_type": "markdown",
   "source": "Filtrar apenas Litoral Sul, Fernão Dias e Regis Bittencourt",
   "id": "facc6c7d639267b1"
  },
  {
   "metadata": {
    "ExecuteTime": {
     "end_time": "2024-04-22T23:07:44.620944Z",
     "start_time": "2024-04-22T23:07:44.605329Z"
    }
   },
   "cell_type": "code",
   "source": "df_pedagio = df_pedagio.query('concessionaria == \"Litoral Sul\" or concessionaria == \"Fernão Dias\" or concessionaria == \"Régis Bittencourt\"')",
   "id": "c735c526b3ee637b",
   "outputs": [],
   "execution_count": 45
  },
  {
   "metadata": {},
   "cell_type": "markdown",
   "source": [
    "#### Regressão logistica\n",
    "alguns dados são outliers"
   ],
   "id": "4c7580acc09593db"
  },
  {
   "metadata": {
    "ExecuteTime": {
     "end_time": "2024-04-22T23:07:45.383662Z",
     "start_time": "2024-04-22T23:07:44.622460Z"
    }
   },
   "cell_type": "code",
   "source": [
    "import seaborn as sns\n",
    "import matplotlib.pyplot as plt\n",
    "\n",
    "plt.figure(figsize=(8, 6))\n",
    "sns.boxplot(x='concessionaria', y='Volume_Total', data=df_pedagio)\n",
    "plt.title(\"Boxplot para identificar outliers separados por concessionária\")\n",
    "plt.xlabel(\"Concessionária\")\n",
    "plt.ylabel(\"Volume Total\")\n",
    "plt.xticks(rotation=45)\n",
    "plt.show()"
   ],
   "id": "afdf3ef62eda9b0",
   "outputs": [
    {
     "data": {
      "text/plain": [
       "<Figure size 800x600 with 1 Axes>"
      ],
      "image/png": "[encoded data removed]"
     },
     "metadata": {},
     "output_type": "display_data"
    }
   ],
   "execution_count": 46
  },
  {
   "metadata": {},
   "cell_type": "markdown",
   "source": "Na Fernão Dias não faz sentido o valor tao baixo para o mes de junho de 2022, sendo zerado",
   "id": "17a2d98f15ad8127"
  },
  {
   "metadata": {
    "ExecuteTime": {
     "end_time": "2024-04-22T23:07:45.405228Z",
     "start_time": "2024-04-22T23:07:45.385656Z"
    }
   },
   "cell_type": "code",
   "source": "df_pedagio.query('Volume_Total > 0 and Volume_Total < 2000 and concessionaria == \"Fernão Dias\"')",
   "id": "be6660f9e54a0ede",
   "outputs": [
    {
     "data": {
      "text/plain": [
       "         ano  mes concessionaria    rodovia sentido     praca km_praca  \\\n",
       "390852  2022    6    Fernão Dias  BR-381/MG       N  Praça 06      659   \n",
       "\n",
       "        volume_total  volume_veiculo_equivalente  \\\n",
       "390852          96.0                        96.0   \n",
       "\n",
       "                                Uniao  Volume_Equivalente  Volume_Total  \n",
       "390852  Fernão Dias.Praça 06.2022.6.N               713.5         265.0  "
      ],
      "text/html": [
       "<div>\n",
       "<style scoped>\n",
       "    .dataframe tbody tr th:only-of-type {\n",
       "        vertical-align: middle;\n",
       "    }\n",
       "\n",
       "    .dataframe tbody tr th {\n",
       "        vertical-align: top;\n",
       "    }\n",
       "\n",
       "    .dataframe thead th {\n",
       "        text-align: right;\n",
       "    }\n",
       "</style>\n",
       "<table border=\"1\" class=\"dataframe\">\n",
       "  <thead>\n",
       "    <tr style=\"text-align: right;\">\n",
       "      <th></th>\n",
       "      <th>ano</th>\n",
       "      <th>mes</th>\n",
       "      <th>concessionaria</th>\n",
       "      <th>rodovia</th>\n",
       "      <th>sentido</th>\n",
       "      <th>praca</th>\n",
       "      <th>km_praca</th>\n",
       "      <th>volume_total</th>\n",
       "      <th>volume_veiculo_equivalente</th>\n",
       "      <th>Uniao</th>\n",
       "      <th>Volume_Equivalente</th>\n",
       "      <th>Volume_Total</th>\n",
       "    </tr>\n",
       "  </thead>\n",
       "  <tbody>\n",
       "    <tr>\n",
       "      <th>390852</th>\n",
       "      <td>2022</td>\n",
       "      <td>6</td>\n",
       "      <td>Fernão Dias</td>\n",
       "      <td>BR-381/MG</td>\n",
       "      <td>N</td>\n",
       "      <td>Praça 06</td>\n",
       "      <td>659</td>\n",
       "      <td>96.0</td>\n",
       "      <td>96.0</td>\n",
       "      <td>Fernão Dias.Praça 06.2022.6.N</td>\n",
       "      <td>713.5</td>\n",
       "      <td>265.0</td>\n",
       "    </tr>\n",
       "  </tbody>\n",
       "</table>\n",
       "</div>"
      ]
     },
     "execution_count": 47,
     "metadata": {},
     "output_type": "execute_result"
    }
   ],
   "execution_count": 47
  },
  {
   "metadata": {
    "ExecuteTime": {
     "end_time": "2024-04-22T23:07:45.413767Z",
     "start_time": "2024-04-22T23:07:45.406235Z"
    }
   },
   "cell_type": "code",
   "source": "df_pedagio.loc[(df_pedagio['Volume_Total'] > 0) & (df_pedagio['Volume_Total'] < 2000) & (df_pedagio['concessionaria']  == 'Fernão Dias'), 'Volume_Total'] = 0.0",
   "id": "4ca5fa9623b14b3f",
   "outputs": [],
   "execution_count": 48
  },
  {
   "metadata": {},
   "cell_type": "markdown",
   "source": "Analisando os valores superiores",
   "id": "36c36e4039991284"
  },
  {
   "metadata": {
    "ExecuteTime": {
     "end_time": "2024-04-22T23:07:45.873846Z",
     "start_time": "2024-04-22T23:07:45.414773Z"
    }
   },
   "cell_type": "code",
   "source": [
    "def analise_boxplot(df, coluna):\n",
    "    plt.figure(figsize=(8, 6))\n",
    "    sns.boxplot(x=coluna, y='Volume_Total', data=df)\n",
    "    plt.xlabel(\"Concessionária\")\n",
    "    plt.ylabel(\"Volume Total\")\n",
    "    plt.xticks(rotation=45) \n",
    "    return plt.show()\n",
    "\n",
    "analise_boxplot(df_pedagio.query('concessionaria == \"Fernão Dias\"'), 'ano')"
   ],
   "id": "97412484e70d5c28",
   "outputs": [
    {
     "data": {
      "text/plain": [
       "<Figure size 800x600 with 1 Axes>"
      ],
      "image/png": "[encoded data removed]"
     },
     "metadata": {},
     "output_type": "display_data"
    }
   ],
   "execution_count": 49
  },
  {
   "metadata": {
    "ExecuteTime": {
     "end_time": "2024-04-22T23:07:46.169402Z",
     "start_time": "2024-04-22T23:07:45.875849Z"
    }
   },
   "cell_type": "code",
   "source": "analise_boxplot(df_pedagio.query('concessionaria == \"Fernão Dias\" and ano == 2017'), 'mes')",
   "id": "a8b37d10962d179",
   "outputs": [
    {
     "data": {
      "text/plain": [
       "<Figure size 800x600 with 1 Axes>"
      ],
      "image/png": "[encoded data removed]"
     },
     "metadata": {},
     "output_type": "display_data"
    }
   ],
   "execution_count": 50
  },
  {
   "metadata": {},
   "cell_type": "markdown",
   "source": "Pandemia",
   "id": "585924c951fb4753"
  },
  {
   "metadata": {
    "ExecuteTime": {
     "end_time": "2024-04-22T23:07:46.551864Z",
     "start_time": "2024-04-22T23:07:46.170407Z"
    }
   },
   "cell_type": "code",
   "source": "analise_boxplot(df_pedagio.query('concessionaria == \"Fernão Dias\" and ano == 2020'), 'mes')",
   "id": "d6ef4c78b3f6266f",
   "outputs": [
    {
     "data": {
      "text/plain": [
       "<Figure size 800x600 with 1 Axes>"
      ],
      "image/png": "[encoded data removed]"
     },
     "metadata": {},
     "output_type": "display_data"
    }
   ],
   "execution_count": 51
  },
  {
   "metadata": {
    "ExecuteTime": {
     "end_time": "2024-04-22T23:07:46.864280Z",
     "start_time": "2024-04-22T23:07:46.551864Z"
    }
   },
   "cell_type": "code",
   "source": "analise_boxplot(df_pedagio.query('concessionaria == \"Litoral Sul\"'), 'ano')",
   "id": "f2e6f338caeee7aa",
   "outputs": [
    {
     "data": {
      "text/plain": [
       "<Figure size 800x600 with 1 Axes>"
      ],
      "image/png": "[encoded data removed]"
     },
     "metadata": {},
     "output_type": "display_data"
    }
   ],
   "execution_count": 52
  },
  {
   "metadata": {
    "ExecuteTime": {
     "end_time": "2024-04-22T23:07:47.230454Z",
     "start_time": "2024-04-22T23:07:46.865286Z"
    }
   },
   "cell_type": "code",
   "source": "analise_boxplot(df_pedagio.query('concessionaria == \"Litoral Sul\" and ano ==2014'), 'mes')",
   "id": "7241c5caa324076c",
   "outputs": [
    {
     "data": {
      "text/plain": [
       "<Figure size 800x600 with 1 Axes>"
      ],
      "image/png": "[encoded data removed]"
     },
     "metadata": {},
     "output_type": "display_data"
    }
   ],
   "execution_count": 53
  },
  {
   "metadata": {},
   "cell_type": "markdown",
   "source": "No caso da Litoral Sul não há nenhuma justificativa para esses valores tão baixos em 2014, sendo zerado.",
   "id": "cebeb9fe5364a9db"
  },
  {
   "metadata": {
    "ExecuteTime": {
     "end_time": "2024-04-22T23:07:47.258413Z",
     "start_time": "2024-04-22T23:07:47.232462Z"
    }
   },
   "cell_type": "code",
   "source": "df_pedagio.query('Volume_Total > 0 and Volume_Total < 200000 and concessionaria == \"Litoral Sul\"')",
   "id": "80d60e78032774",
   "outputs": [
    {
     "data": {
      "text/plain": [
       "        ano  mes concessionaria    rodovia sentido     praca km_praca  \\\n",
       "67094  2014    6    Litoral Sul  BR-101/SC       S  Praça 05   243,00   \n",
       "67095  2014    6    Litoral Sul  BR-101/SC       N  Praça 05   243,00   \n",
       "\n",
       "       volume_total  volume_veiculo_equivalente  \\\n",
       "67094       76165.0                     76165.0   \n",
       "67095       72721.0                     72721.0   \n",
       "\n",
       "                               Uniao  Volume_Equivalente  Volume_Total  \n",
       "67094  Litoral Sul.Praça 05.2014.6.S            273991.5      122462.0  \n",
       "67095  Litoral Sul.Praça 05.2014.6.N            266341.5      118303.0  "
      ],
      "text/html": [
       "<div>\n",
       "<style scoped>\n",
       "    .dataframe tbody tr th:only-of-type {\n",
       "        vertical-align: middle;\n",
       "    }\n",
       "\n",
       "    .dataframe tbody tr th {\n",
       "        vertical-align: top;\n",
       "    }\n",
       "\n",
       "    .dataframe thead th {\n",
       "        text-align: right;\n",
       "    }\n",
       "</style>\n",
       "<table border=\"1\" class=\"dataframe\">\n",
       "  <thead>\n",
       "    <tr style=\"text-align: right;\">\n",
       "      <th></th>\n",
       "      <th>ano</th>\n",
       "      <th>mes</th>\n",
       "      <th>concessionaria</th>\n",
       "      <th>rodovia</th>\n",
       "      <th>sentido</th>\n",
       "      <th>praca</th>\n",
       "      <th>km_praca</th>\n",
       "      <th>volume_total</th>\n",
       "      <th>volume_veiculo_equivalente</th>\n",
       "      <th>Uniao</th>\n",
       "      <th>Volume_Equivalente</th>\n",
       "      <th>Volume_Total</th>\n",
       "    </tr>\n",
       "  </thead>\n",
       "  <tbody>\n",
       "    <tr>\n",
       "      <th>67094</th>\n",
       "      <td>2014</td>\n",
       "      <td>6</td>\n",
       "      <td>Litoral Sul</td>\n",
       "      <td>BR-101/SC</td>\n",
       "      <td>S</td>\n",
       "      <td>Praça 05</td>\n",
       "      <td>243,00</td>\n",
       "      <td>76165.0</td>\n",
       "      <td>76165.0</td>\n",
       "      <td>Litoral Sul.Praça 05.2014.6.S</td>\n",
       "      <td>273991.5</td>\n",
       "      <td>122462.0</td>\n",
       "    </tr>\n",
       "    <tr>\n",
       "      <th>67095</th>\n",
       "      <td>2014</td>\n",
       "      <td>6</td>\n",
       "      <td>Litoral Sul</td>\n",
       "      <td>BR-101/SC</td>\n",
       "      <td>N</td>\n",
       "      <td>Praça 05</td>\n",
       "      <td>243,00</td>\n",
       "      <td>72721.0</td>\n",
       "      <td>72721.0</td>\n",
       "      <td>Litoral Sul.Praça 05.2014.6.N</td>\n",
       "      <td>266341.5</td>\n",
       "      <td>118303.0</td>\n",
       "    </tr>\n",
       "  </tbody>\n",
       "</table>\n",
       "</div>"
      ]
     },
     "execution_count": 54,
     "metadata": {},
     "output_type": "execute_result"
    }
   ],
   "execution_count": 54
  },
  {
   "metadata": {
    "ExecuteTime": {
     "end_time": "2024-04-22T23:07:47.265853Z",
     "start_time": "2024-04-22T23:07:47.258919Z"
    }
   },
   "cell_type": "code",
   "source": "df_pedagio.loc[(df_pedagio['Volume_Total'] > 0) & (df_pedagio['Volume_Total'] < 200000) & (df_pedagio['concessionaria']  == 'Litoral Sul'), 'Volume_Total'] = 0.0",
   "id": "37bdfcb1891ba06e",
   "outputs": [],
   "execution_count": 55
  },
  {
   "metadata": {},
   "cell_type": "markdown",
   "source": "Todos os valores zerados são colocados no modelo de teste para ser gerado novos valores com base nos dados de treino",
   "id": "9a1542a6a8a9abb6"
  },
  {
   "metadata": {
    "ExecuteTime": {
     "end_time": "2024-04-22T23:07:50.830171Z",
     "start_time": "2024-04-22T23:07:47.266860Z"
    }
   },
   "cell_type": "code",
   "source": [
    "import numpy as np\n",
    "\n",
    "!pip install scikit-learn 24.0\n",
    "from sklearn.preprocessing import OneHotEncoder\n",
    "from sklearn.compose import ColumnTransformer\n",
    "from sklearn.pipeline import Pipeline\n",
    "from sklearn.linear_model import LinearRegression\n",
    "from sklearn.metrics import r2_score"
   ],
   "id": "75afa4adfad7b727",
   "outputs": [
    {
     "name": "stdout",
     "output_type": "stream",
     "text": [
      "Requirement already satisfied: scikit-learn in c:\\users\\loany\\pycharmprojects\\pythonproject3\\.venv\\lib\\site-packages (1.4.2)\n"
     ]
    },
    {
     "name": "stderr",
     "output_type": "stream",
     "text": [
      "ERROR: Could not find a version that satisfies the requirement 24.0 (from versions: none)\n",
      "ERROR: No matching distribution found for 24.0\n",
      "\n",
      "[notice] A new release of pip is available: 23.2.1 -> 24.0\n",
      "[notice] To update, run: python.exe -m pip install --upgrade pip\n"
     ]
    }
   ],
   "execution_count": 56
  },
  {
   "metadata": {},
   "cell_type": "code",
   "source": [
    "def preencher_nulos(df):\n",
    "    dados = df[['ano', 'mes', 'concessionaria', 'sentido', 'praca', 'Volume_Equivalente', 'Volume_Total']]\n",
    "    dados['Volume_Total'] = dados['Volume_Total'].replace(0.0, np.nan)\n",
    "    \n",
    "    dados_treino = dados.dropna()\n",
    "    dados_teste = dados[dados['Volume_Total'].isnull()]\n",
    "    \n",
    "    X_treino = dados_treino[['ano', 'mes', 'concessionaria', 'sentido', 'praca']]\n",
    "    y_treino = dados_treino['Volume_Total']\n",
    "    X_teste = dados_teste[['ano', 'mes', 'concessionaria', 'sentido', 'praca']]\n",
    "    \n",
    "    transformador = ColumnTransformer([('encoder', OneHotEncoder(), ['concessionaria', 'sentido', 'praca'])], remainder='passthrough')\n",
    "    \n",
    "    modelo = Pipeline([('transformador', transformador), ('regressao', LinearRegression())])\n",
    "    modelo.fit(X_treino, y_treino)\n",
    "    \n",
    "    previsoes = modelo.predict(X_teste)\n",
    "    \n",
    "    dados.loc[dados['Volume_Total'].isnull(), 'Volume_Total'] = previsoes\n",
    "    return dados\n",
    "\n",
    "df_pedagio = preencher_nulos(df_pedagio)"
   ],
   "id": "fc34e028f1648fd7",
   "outputs": [],
   "execution_count": null
  },
  {
   "metadata": {
    "ExecuteTime": {
     "end_time": "2024-04-22T23:07:51.178863Z",
     "start_time": "2024-04-22T23:07:50.902095Z"
    }
   },
   "cell_type": "code",
   "source": "analise_boxplot(df_pedagio.query('concessionaria == \"Fernão Dias\"'), 'ano')",
   "id": "48b89e3ceaecd084",
   "outputs": [
    {
     "data": {
      "text/plain": [
       "<Figure size 800x600 with 1 Axes>"
      ],
      "image/png": "[encoded data removed]"
     },
     "metadata": {},
     "output_type": "display_data"
    }
   ],
   "execution_count": 58
  },
  {
   "metadata": {
    "ExecuteTime": {
     "end_time": "2024-04-22T23:07:51.457193Z",
     "start_time": "2024-04-22T23:07:51.182204Z"
    }
   },
   "cell_type": "code",
   "source": "analise_boxplot(df_pedagio.query('concessionaria == \"Litoral Sul\"'), 'ano')",
   "id": "b5e9f20cd49a4359",
   "outputs": [
    {
     "data": {
      "text/plain": [
       "<Figure size 800x600 with 1 Axes>"
      ],
      "image/png": "[encoded data removed]"
     },
     "metadata": {},
     "output_type": "display_data"
    }
   ],
   "execution_count": 59
  },
  {
   "metadata": {},
   "cell_type": "markdown",
   "source": "Definir qual praça o acidente pertence com base no csv ja existente df_km_praca",
   "id": "84f34d6244c51df3"
  },
  {
   "metadata": {
    "ExecuteTime": {
     "end_time": "2024-04-22T23:14:52.536519Z",
     "start_time": "2024-04-22T23:07:51.458194Z"
    }
   },
   "cell_type": "code",
   "source": [
    "def incluir_pedagio_acidentes(df):\n",
    "    df_praca = pd.read_csv('DadosIniciais/Base/df_km_pracas.csv')\n",
    "\n",
    "    df_auxiliar = df[['OcDataConcessionaria', 'Concessionaria', 'Ano', 'Mes', 'Rodovia', 'Sentido', 'kmmt']]\n",
    "    df_auxiliar = df_auxiliar.query('Concessionaria == \"Fernão Dias\" or '\n",
    "                                    'Concessionaria == \"Litoral Sul\" or '\n",
    "                                    'Concessionaria == \"Régis Bittencourt\"')\n",
    "\n",
    "    df_auxiliar['Praca_pedagio'] = df_auxiliar.apply(\n",
    "        lambda row: df_praca.loc[(row['Concessionaria'] == df_praca['Concessionaria']) &\n",
    "                                 (row['Rodovia'] == df_praca['Rodovia']) &\n",
    "                                 (row['kmmt'] >= df_praca['Inicio']) &\n",
    "                                 (row['kmmt'] < df_praca['Fim']), 'Praça'].\n",
    "        values[0] if not df_praca.loc[(row['Concessionaria'] == df_praca['Concessionaria']) &\n",
    "                                      (row['Rodovia'] == df_praca['Rodovia']) &\n",
    "                                      (row['kmmt'] >= df_praca['Inicio']) &\n",
    "                                      (row['kmmt'] < df_praca['Fim']), 'Praça'].empty else None, axis=1)\n",
    "\n",
    "    return df_auxiliar\n",
    "\n",
    "df_acidentes = pd.read_csv('Arquivos/df_acidentes.csv')\n",
    "\n",
    "df_acidentes = incluir_pedagio_acidentes(df_acidentes)"
   ],
   "id": "41dda27bfab07ebb",
   "outputs": [],
   "execution_count": 60
  },
  {
   "metadata": {},
   "cell_type": "markdown",
   "source": "Unir os dados de acidentes com os dados de volume com base na praça, sentido, mes, ano e concessionaria",
   "id": "4f08c8c5d74d7993"
  },
  {
   "metadata": {
    "ExecuteTime": {
     "end_time": "2024-04-22T23:14:55.663706Z",
     "start_time": "2024-04-22T23:14:52.543632Z"
    }
   },
   "cell_type": "code",
   "source": [
    "def uniao_volume_acidentes(df_pedagio, df):\n",
    "    df_pedagio['Uniao'] = df_pedagio['concessionaria'].astype(str) + '.' + df_pedagio['praca'].astype(str) + '.' + df_pedagio['ano'].astype(str) + '.' + df_pedagio['mes'].astype(str) + '.' + df_pedagio['sentido'].astype(str)\n",
    "\n",
    "    df_auxiliar = df_pedagio[['Uniao', 'Volume_Equivalente', 'Volume_Total']]\n",
    "\n",
    "    df['Uniao'] = df['Concessionaria'].astype(str) + '.' + df['Praca_pedagio'].astype(str) + '.' + df['Ano'].astype(str) + '.' + df['Mes'].astype(str) + '.' + df['Sentido'].astype(str)\n",
    "    df['Mes_Ano'] = pd.to_datetime(df['Ano'].astype(str) + '-' + df['Mes'].astype(str), format='%Y-%m')\n",
    "    df = df[['OcDataConcessionaria', 'Mes_Ano', 'Uniao', 'Praca_pedagio']]\n",
    "\n",
    "    df = pd.merge(df, df_auxiliar, on='Uniao', how='left')\n",
    "\n",
    "    df.drop(columns=['Uniao'], axis=1, inplace=True)\n",
    "\n",
    "    df_acidentes = pd.read_csv('Arquivos/df_acidentes.csv', encoding='utf-8')\n",
    "    df_acidentes = pd.merge(df_acidentes, df, on='OcDataConcessionaria', how='left')\n",
    "\n",
    "    return df_acidentes\n",
    "\n",
    "df_acidentes = uniao_volume_acidentes(df_pedagio, df_acidentes)"
   ],
   "id": "7c04ec9b5b8ac638",
   "outputs": [],
   "execution_count": 61
  },
  {
   "metadata": {},
   "cell_type": "markdown",
   "source": "Os dados abertos da ANTT tambem tem os dados das marginais, como km inicial e final, ano de construção. Será incluido no modelo.",
   "id": "571ff944e661c79a"
  },
  {
   "metadata": {
    "ExecuteTime": {
     "end_time": "2024-04-22T23:14:55.741314Z",
     "start_time": "2024-04-22T23:14:55.665221Z"
    }
   },
   "cell_type": "code",
   "source": [
    "marginal = pd.read_csv('DadosIniciais/Base/Marginais.csv', sep=\";\", encoding='latin1')\n",
    "marginal.head(5)"
   ],
   "id": "6dccecc3a669df19",
   "outputs": [
    {
     "data": {
      "text/plain": [
       "          concessionaria  ano_do_pnv_snv rodovia_uf    sentido km_m_inicial  \\\n",
       "0  AUTOPISTA FERNÃO DIAS            2007  BR-381/MG  Crescente      588,732   \n",
       "1  AUTOPISTA FERNÃO DIAS            2007  BR-381/MG  Crescente      676,100   \n",
       "2  AUTOPISTA FERNÃO DIAS            2007  BR-381/MG  Crescente      684,470   \n",
       "3  AUTOPISTA FERNÃO DIAS            2007  BR-381/MG  Crescente      723,068   \n",
       "4  AUTOPISTA FERNÃO DIAS            2007  BR-381/MG  Crescente      753,510   \n",
       "\n",
       "  latitude_inicial latitude_final km_m_final longitude_inicial longitude_final  \n",
       "0       -20,539507     -20,544517    589,857        -44,641545      -44,647932  \n",
       "1       -21,096877     -21,106390    677,511        -45,081658      -45,091027  \n",
       "2       -21,161326     -21,164419    685,092        -45,119954      -45,124892  \n",
       "3       -21,448824     -21,454536    723,701        -45,212246      -45,214782  \n",
       "4       -21,665307     -21,668957    755,132        -45,310256      -45,326629  "
      ],
      "text/html": [
       "<div>\n",
       "<style scoped>\n",
       "    .dataframe tbody tr th:only-of-type {\n",
       "        vertical-align: middle;\n",
       "    }\n",
       "\n",
       "    .dataframe tbody tr th {\n",
       "        vertical-align: top;\n",
       "    }\n",
       "\n",
       "    .dataframe thead th {\n",
       "        text-align: right;\n",
       "    }\n",
       "</style>\n",
       "<table border=\"1\" class=\"dataframe\">\n",
       "  <thead>\n",
       "    <tr style=\"text-align: right;\">\n",
       "      <th></th>\n",
       "      <th>concessionaria</th>\n",
       "      <th>ano_do_pnv_snv</th>\n",
       "      <th>rodovia_uf</th>\n",
       "      <th>sentido</th>\n",
       "      <th>km_m_inicial</th>\n",
       "      <th>latitude_inicial</th>\n",
       "      <th>latitude_final</th>\n",
       "      <th>km_m_final</th>\n",
       "      <th>longitude_inicial</th>\n",
       "      <th>longitude_final</th>\n",
       "    </tr>\n",
       "  </thead>\n",
       "  <tbody>\n",
       "    <tr>\n",
       "      <th>0</th>\n",
       "      <td>AUTOPISTA FERNÃO DIAS</td>\n",
       "      <td>2007</td>\n",
       "      <td>BR-381/MG</td>\n",
       "      <td>Crescente</td>\n",
       "      <td>588,732</td>\n",
       "      <td>-20,539507</td>\n",
       "      <td>-20,544517</td>\n",
       "      <td>589,857</td>\n",
       "      <td>-44,641545</td>\n",
       "      <td>-44,647932</td>\n",
       "    </tr>\n",
       "    <tr>\n",
       "      <th>1</th>\n",
       "      <td>AUTOPISTA FERNÃO DIAS</td>\n",
       "      <td>2007</td>\n",
       "      <td>BR-381/MG</td>\n",
       "      <td>Crescente</td>\n",
       "      <td>676,100</td>\n",
       "      <td>-21,096877</td>\n",
       "      <td>-21,106390</td>\n",
       "      <td>677,511</td>\n",
       "      <td>-45,081658</td>\n",
       "      <td>-45,091027</td>\n",
       "    </tr>\n",
       "    <tr>\n",
       "      <th>2</th>\n",
       "      <td>AUTOPISTA FERNÃO DIAS</td>\n",
       "      <td>2007</td>\n",
       "      <td>BR-381/MG</td>\n",
       "      <td>Crescente</td>\n",
       "      <td>684,470</td>\n",
       "      <td>-21,161326</td>\n",
       "      <td>-21,164419</td>\n",
       "      <td>685,092</td>\n",
       "      <td>-45,119954</td>\n",
       "      <td>-45,124892</td>\n",
       "    </tr>\n",
       "    <tr>\n",
       "      <th>3</th>\n",
       "      <td>AUTOPISTA FERNÃO DIAS</td>\n",
       "      <td>2007</td>\n",
       "      <td>BR-381/MG</td>\n",
       "      <td>Crescente</td>\n",
       "      <td>723,068</td>\n",
       "      <td>-21,448824</td>\n",
       "      <td>-21,454536</td>\n",
       "      <td>723,701</td>\n",
       "      <td>-45,212246</td>\n",
       "      <td>-45,214782</td>\n",
       "    </tr>\n",
       "    <tr>\n",
       "      <th>4</th>\n",
       "      <td>AUTOPISTA FERNÃO DIAS</td>\n",
       "      <td>2007</td>\n",
       "      <td>BR-381/MG</td>\n",
       "      <td>Crescente</td>\n",
       "      <td>753,510</td>\n",
       "      <td>-21,665307</td>\n",
       "      <td>-21,668957</td>\n",
       "      <td>755,132</td>\n",
       "      <td>-45,310256</td>\n",
       "      <td>-45,326629</td>\n",
       "    </tr>\n",
       "  </tbody>\n",
       "</table>\n",
       "</div>"
      ]
     },
     "execution_count": 62,
     "metadata": {},
     "output_type": "execute_result"
    }
   ],
   "execution_count": 62
  },
  {
   "metadata": {},
   "cell_type": "markdown",
   "source": "Alterando os nomes das concessionarias",
   "id": "4f862f6826153635"
  },
  {
   "metadata": {},
   "cell_type": "code",
   "source": [
    "def definir_concessionaria(df):\n",
    "    df = df.query(\n",
    "        'concessionaria == \"AUTOPISTA FERNÃO DIAS\" or concessionaria == \"AUTOPISTA FLUMINENSE\" or concessionaria == \"AUTOPISTA LITORAL SUL\" or concessionaria == \"AUTOPISTA PLANALTO SUL\" or concessionaria == \"AUTOPISTA REGIS BITTENCOURT\"')\n",
    "\n",
    "    concessionaria = {'AUTOPISTA FLUMINENSE': 'Fluminense',\n",
    "                      'AUTOPISTA PLANALTO SUL': 'Planalto Sul',\n",
    "                      'AUTOPISTA FERNÃO DIAS': 'Fernão Dias',\n",
    "                      'AUTOPISTA LITORAL SUL': 'Litoral Sul',\n",
    "                      'AUTOPISTA REGIS BITTENCOURT': 'Régis Bittencourt'}\n",
    "    df['concessionaria'].replace(concessionaria, inplace=True)\n",
    "\n",
    "    return df\n",
    "\n",
    "marginal = definir_concessionaria(marginal)"
   ],
   "id": "3556021e6238e276",
   "outputs": [],
   "execution_count": null
  },
  {
   "metadata": {},
   "cell_type": "code",
   "source": [
    "def formatar_colunas(df):\n",
    "    df.drop(columns=['latitude_inicial', 'latitude_final', 'longitude_inicial', 'longitude_final'], inplace=True)\n",
    "    df['sentido'].replace({'Decrescente': 'N', 'Crescente': 'S'}, inplace=True)\n",
    "\n",
    "    df[['km_m_inicial', 'km_m_final']] = df[['km_m_inicial', 'km_m_final']].map(\n",
    "        lambda x: x.replace(',', '.') if isinstance(x, str) and ',' in x else x)\n",
    "    df[['km_m_inicial', 'km_m_final']] = df[['km_m_inicial', 'km_m_final']].astype(float)\n",
    "\n",
    "    return df\n",
    "\n",
    "marginal = formatar_colunas(marginal)"
   ],
   "id": "f0980087a4a5cdae",
   "outputs": [],
   "execution_count": null
  },
  {
   "metadata": {},
   "cell_type": "markdown",
   "source": "Alterando os nomes das rodovias para o padrão",
   "id": "aa2aa5fe1cad3ade"
  },
  {
   "metadata": {
    "ExecuteTime": {
     "end_time": "2024-04-22T23:14:55.799806Z",
     "start_time": "2024-04-22T23:14:55.779606Z"
    }
   },
   "cell_type": "code",
   "source": [
    "def substituir_concessionaria(row):\n",
    "    if row['concessionaria'] == 'Litoral Sul':\n",
    "        return row['rodovia_uf'].replace('BR-101/SC', 'BR101').replace('BR-116/PR', 'BR116').replace('BR-376/PR','BR376')\n",
    "\n",
    "    elif row['concessionaria'] == 'Fernão Dias':\n",
    "        return row['rodovia_uf'].replace('BR-381/MG', 'MG-BR381').replace('BR-381/SP', 'SP-BR381')\n",
    "\n",
    "    elif row['concessionaria'] == 'Régis Bittencourt':\n",
    "        return row['rodovia_uf'].replace('CW-116/PR', 'CW-BR116').replace('BR-116/SP', 'SP-BR116')\n",
    "\n",
    "    elif row['concessionaria'] == 'Fluminense':\n",
    "        return row['rodovia_uf'].replace('BR-101/RJ', 'BR101')\n",
    "\n",
    "    else:\n",
    "        return row['rodovia_uf'].replace('BR-116/PR', 'BR116/PR').replace('BR-116/SC', 'BR116/SC')\n",
    "    \n",
    "marginal['rodovia_uf'] = marginal.apply(substituir_concessionaria, axis=1)\n",
    "marginal['rodovia_uf'].value_counts()"
   ],
   "id": "52626bf56adaa497",
   "outputs": [
    {
     "data": {
      "text/plain": [
       "rodovia_uf\n",
       "BR101          131\n",
       "MG-BR381        58\n",
       "SP-BR381        26\n",
       "BR116/SC        25\n",
       "BR376           24\n",
       "SP-BR116        23\n",
       "BR116/PR        17\n",
       "BR116           16\n",
       "CW-BR116         9\n",
       "Contorno/MG      2\n",
       "Name: count, dtype: int64"
      ]
     },
     "execution_count": 65,
     "metadata": {},
     "output_type": "execute_result"
    }
   ],
   "execution_count": 65
  },
  {
   "metadata": {},
   "cell_type": "markdown",
   "source": "Mesclando os dados de acidentes com marginal",
   "id": "27a684d5c0067958"
  },
  {
   "metadata": {
    "ExecuteTime": {
     "end_time": "2024-04-22T23:18:18.797715Z",
     "start_time": "2024-04-22T23:14:55.801811Z"
    }
   },
   "cell_type": "code",
   "source": [
    "def get_ano_marginal(row):\n",
    "    filtro = ((marginal['concessionaria'] == row['Concessionaria']) &\n",
    "              (row['Rodovia'] == marginal['rodovia_uf']) &\n",
    "              (row['kmmt'] >= marginal['km_m_inicial']) &\n",
    "              (row['kmmt'] < marginal['km_m_final']))\n",
    "\n",
    "    dados = marginal.loc[filtro, 'ano_do_pnv_snv']\n",
    "\n",
    "    if not dados.empty:\n",
    "        return dados.values[0]\n",
    "    else:\n",
    "        return None\n",
    "\n",
    "\n",
    "df_acidentes['Ano_Marginal'] = df_acidentes.apply(get_ano_marginal, axis=1)\n",
    "df_acidentes['Marginal'] = np.where(df_acidentes['Ano_Marginal'] > 2007, True, False)\n",
    "df_acidentes.drop_duplicates(subset='OcDataConcessionaria', inplace=True)\n",
    "\n",
    "df_acidentes.to_csv('Arquivos/df_acidentes_volume.csv', index=False, encoding='utf-8')"
   ],
   "id": "657d5e30d5e4d989",
   "outputs": [],
   "execution_count": 66
  },
  {
   "metadata": {
    "ExecuteTime": {
     "end_time": "2024-04-22T23:19:13.392479Z",
     "start_time": "2024-04-22T23:19:13.306897Z"
    }
   },
   "cell_type": "code",
   "source": "df_acidentes.drop(columns='Veiculos').head()",
   "id": "6b3c0e372bb87ff5",
   "outputs": [
    {
     "data": {
      "text/plain": [
       "   NumOcorrencia DataOcorrencia               DescrOcorrencia Sentido Rodovia  \\\n",
       "0             15     2009-01-01           Acidente com VITIMA       S   BR101   \n",
       "1             31     2009-01-01           Acidente com VITIMA       N   BR101   \n",
       "2            231     2009-01-06           Acidente com VITIMA       S   BR101   \n",
       "3            150     2009-01-04  Acidente com Danos Materiais       S   BR376   \n",
       "4             36     2009-01-07           Acidente com VITIMA       S   BR101   \n",
       "\n",
       "   Numveic  Ilesos  VitimasLeves  VitimasModeradas  VitimasGraves  ...  \\\n",
       "0      1.0     NaN           1.0               NaN            NaN  ...   \n",
       "1      2.0     2.0           NaN               1.0            NaN  ...   \n",
       "2      1.0     NaN           1.0               NaN            NaN  ...   \n",
       "3      1.0     1.0           NaN               NaN            NaN  ...   \n",
       "4      1.0     NaN           1.0               NaN            NaN  ...   \n",
       "\n",
       "   Motocicleta Veiculo_Leve Veiculo_Pesado Veiculo_Passageiro    Mes_Ano  \\\n",
       "0         True        False          False              False 2009-01-01   \n",
       "1         True        False          False              False 2009-01-01   \n",
       "2         True        False          False              False 2009-01-01   \n",
       "3         True        False          False              False 2009-01-01   \n",
       "4         True        False          False              False 2009-01-01   \n",
       "\n",
       "   Praca_pedagio  Volume_Equivalente Volume_Total  Ano_Marginal  Marginal  \n",
       "0       Praça 04                 NaN          NaN           NaN     False  \n",
       "1       Praça 03                 NaN          NaN           NaN     False  \n",
       "2       Praça 05                 NaN          NaN        2009.0      True  \n",
       "3       Praça 02                 NaN          NaN           NaN     False  \n",
       "4       Praça 04                 NaN          NaN           NaN     False  \n",
       "\n",
       "[5 rows x 37 columns]"
      ],
      "text/html": [
       "<div>\n",
       "<style scoped>\n",
       "    .dataframe tbody tr th:only-of-type {\n",
       "        vertical-align: middle;\n",
       "    }\n",
       "\n",
       "    .dataframe tbody tr th {\n",
       "        vertical-align: top;\n",
       "    }\n",
       "\n",
       "    .dataframe thead th {\n",
       "        text-align: right;\n",
       "    }\n",
       "</style>\n",
       "<table border=\"1\" class=\"dataframe\">\n",
       "  <thead>\n",
       "    <tr style=\"text-align: right;\">\n",
       "      <th></th>\n",
       "      <th>NumOcorrencia</th>\n",
       "      <th>DataOcorrencia</th>\n",
       "      <th>DescrOcorrencia</th>\n",
       "      <th>Sentido</th>\n",
       "      <th>Rodovia</th>\n",
       "      <th>Numveic</th>\n",
       "      <th>Ilesos</th>\n",
       "      <th>VitimasLeves</th>\n",
       "      <th>VitimasModeradas</th>\n",
       "      <th>VitimasGraves</th>\n",
       "      <th>...</th>\n",
       "      <th>Motocicleta</th>\n",
       "      <th>Veiculo_Leve</th>\n",
       "      <th>Veiculo_Pesado</th>\n",
       "      <th>Veiculo_Passageiro</th>\n",
       "      <th>Mes_Ano</th>\n",
       "      <th>Praca_pedagio</th>\n",
       "      <th>Volume_Equivalente</th>\n",
       "      <th>Volume_Total</th>\n",
       "      <th>Ano_Marginal</th>\n",
       "      <th>Marginal</th>\n",
       "    </tr>\n",
       "  </thead>\n",
       "  <tbody>\n",
       "    <tr>\n",
       "      <th>0</th>\n",
       "      <td>15</td>\n",
       "      <td>2009-01-01</td>\n",
       "      <td>Acidente com VITIMA</td>\n",
       "      <td>S</td>\n",
       "      <td>BR101</td>\n",
       "      <td>1.0</td>\n",
       "      <td>NaN</td>\n",
       "      <td>1.0</td>\n",
       "      <td>NaN</td>\n",
       "      <td>NaN</td>\n",
       "      <td>...</td>\n",
       "      <td>True</td>\n",
       "      <td>False</td>\n",
       "      <td>False</td>\n",
       "      <td>False</td>\n",
       "      <td>2009-01-01</td>\n",
       "      <td>Praça 04</td>\n",
       "      <td>NaN</td>\n",
       "      <td>NaN</td>\n",
       "      <td>NaN</td>\n",
       "      <td>False</td>\n",
       "    </tr>\n",
       "    <tr>\n",
       "      <th>1</th>\n",
       "      <td>31</td>\n",
       "      <td>2009-01-01</td>\n",
       "      <td>Acidente com VITIMA</td>\n",
       "      <td>N</td>\n",
       "      <td>BR101</td>\n",
       "      <td>2.0</td>\n",
       "      <td>2.0</td>\n",
       "      <td>NaN</td>\n",
       "      <td>1.0</td>\n",
       "      <td>NaN</td>\n",
       "      <td>...</td>\n",
       "      <td>True</td>\n",
       "      <td>False</td>\n",
       "      <td>False</td>\n",
       "      <td>False</td>\n",
       "      <td>2009-01-01</td>\n",
       "      <td>Praça 03</td>\n",
       "      <td>NaN</td>\n",
       "      <td>NaN</td>\n",
       "      <td>NaN</td>\n",
       "      <td>False</td>\n",
       "    </tr>\n",
       "    <tr>\n",
       "      <th>2</th>\n",
       "      <td>231</td>\n",
       "      <td>2009-01-06</td>\n",
       "      <td>Acidente com VITIMA</td>\n",
       "      <td>S</td>\n",
       "      <td>BR101</td>\n",
       "      <td>1.0</td>\n",
       "      <td>NaN</td>\n",
       "      <td>1.0</td>\n",
       "      <td>NaN</td>\n",
       "      <td>NaN</td>\n",
       "      <td>...</td>\n",
       "      <td>True</td>\n",
       "      <td>False</td>\n",
       "      <td>False</td>\n",
       "      <td>False</td>\n",
       "      <td>2009-01-01</td>\n",
       "      <td>Praça 05</td>\n",
       "      <td>NaN</td>\n",
       "      <td>NaN</td>\n",
       "      <td>2009.0</td>\n",
       "      <td>True</td>\n",
       "    </tr>\n",
       "    <tr>\n",
       "      <th>3</th>\n",
       "      <td>150</td>\n",
       "      <td>2009-01-04</td>\n",
       "      <td>Acidente com Danos Materiais</td>\n",
       "      <td>S</td>\n",
       "      <td>BR376</td>\n",
       "      <td>1.0</td>\n",
       "      <td>1.0</td>\n",
       "      <td>NaN</td>\n",
       "      <td>NaN</td>\n",
       "      <td>NaN</td>\n",
       "      <td>...</td>\n",
       "      <td>True</td>\n",
       "      <td>False</td>\n",
       "      <td>False</td>\n",
       "      <td>False</td>\n",
       "      <td>2009-01-01</td>\n",
       "      <td>Praça 02</td>\n",
       "      <td>NaN</td>\n",
       "      <td>NaN</td>\n",
       "      <td>NaN</td>\n",
       "      <td>False</td>\n",
       "    </tr>\n",
       "    <tr>\n",
       "      <th>4</th>\n",
       "      <td>36</td>\n",
       "      <td>2009-01-07</td>\n",
       "      <td>Acidente com VITIMA</td>\n",
       "      <td>S</td>\n",
       "      <td>BR101</td>\n",
       "      <td>1.0</td>\n",
       "      <td>NaN</td>\n",
       "      <td>1.0</td>\n",
       "      <td>NaN</td>\n",
       "      <td>NaN</td>\n",
       "      <td>...</td>\n",
       "      <td>True</td>\n",
       "      <td>False</td>\n",
       "      <td>False</td>\n",
       "      <td>False</td>\n",
       "      <td>2009-01-01</td>\n",
       "      <td>Praça 04</td>\n",
       "      <td>NaN</td>\n",
       "      <td>NaN</td>\n",
       "      <td>NaN</td>\n",
       "      <td>False</td>\n",
       "    </tr>\n",
       "  </tbody>\n",
       "</table>\n",
       "<p>5 rows × 37 columns</p>\n",
       "</div>"
      ]
     },
     "execution_count": 68,
     "metadata": {},
     "output_type": "execute_result"
    }
   ],
   "execution_count": 68
  }
 ],
 "metadata": {
  "kernelspec": {
   "display_name": "Python 3",
   "language": "python",
   "name": "python3"
  },
  "language_info": {
   "codemirror_mode": {
    "name": "ipython",
    "version": 2
   },
   "file_extension": ".py",
   "mimetype": "text/x-python",
   "name": "python",
   "nbconvert_exporter": "python",
   "pygments_lexer": "ipython2",
   "version": "2.7.6"
  }
 },
 "nbformat": 4,
 "nbformat_minor": 5
}
