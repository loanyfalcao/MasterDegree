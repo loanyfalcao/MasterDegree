{
 "cells": [
  {
   "cell_type": "code",
   "outputs": [],
   "source": [
    "import pandas as pd\n",
    "import numpy as np\n",
    "df = pd.read_csv('Arquivos/Logit/df_vitimas_acidentes_2_2010-2022.csv', encoding='latin1')"
   ],
   "metadata": {
    "collapsed": false,
    "ExecuteTime": {
     "end_time": "2024-04-08T14:19:45.064812100Z",
     "start_time": "2024-04-08T14:19:42.345531700Z"
    }
   },
   "id": "6bf478644a2d66e1",
   "execution_count": 40
  },
  {
   "cell_type": "code",
   "outputs": [
    {
     "data": {
      "text/plain": "                                 count  % total\nDescrOcorrencia                                \nAcidente com Danos Materiais  367611.0    32.08\nAcidente com VITIMA           666792.0    58.19\nAcidente com Vitima Fatal     111423.0     9.72",
      "text/html": "<div>\n<style scoped>\n    .dataframe tbody tr th:only-of-type {\n        vertical-align: middle;\n    }\n\n    .dataframe tbody tr th {\n        vertical-align: top;\n    }\n\n    .dataframe thead th {\n        text-align: right;\n    }\n</style>\n<table border=\"1\" class=\"dataframe\">\n  <thead>\n    <tr style=\"text-align: right;\">\n      <th></th>\n      <th>count</th>\n      <th>% total</th>\n    </tr>\n    <tr>\n      <th>DescrOcorrencia</th>\n      <th></th>\n      <th></th>\n    </tr>\n  </thead>\n  <tbody>\n    <tr>\n      <th>Acidente com Danos Materiais</th>\n      <td>367611.0</td>\n      <td>32.08</td>\n    </tr>\n    <tr>\n      <th>Acidente com VITIMA</th>\n      <td>666792.0</td>\n      <td>58.19</td>\n    </tr>\n    <tr>\n      <th>Acidente com Vitima Fatal</th>\n      <td>111423.0</td>\n      <td>9.72</td>\n    </tr>\n  </tbody>\n</table>\n</div>"
     },
     "execution_count": 77,
     "metadata": {},
     "output_type": "execute_result"
    }
   ],
   "source": [
    "auxiliar = pd.DataFrame()\n",
    "auxiliar['count'] = df.groupby('DescrOcorrencia')['UPS'].sum()\n",
    "auxiliar['% total'] = round(auxiliar['count']/(auxiliar['count'].sum()),4)*100\n",
    "auxiliar"
   ],
   "metadata": {
    "collapsed": false,
    "ExecuteTime": {
     "end_time": "2024-03-25T21:50:15.631279900Z",
     "start_time": "2024-03-25T21:50:14.314803400Z"
    }
   },
   "id": "a2be1d64957bcbb1",
   "execution_count": 77
  },
  {
   "cell_type": "code",
   "outputs": [
    {
     "data": {
      "text/plain": "Gravidade  CondicaoPista  TracadoPista   \n0.0        Molhada        Reta               1622\n                          Curva Acentuada     968\n                          Curva Suave         762\n           Seca           Reta               7074\n                          Curva Suave        2402\n                          Curva Acentuada    1655\n1.0        Molhada        Reta                702\n                          Curva Acentuada     318\n                          Curva Suave         316\n           Seca           Reta               3505\n                          Curva Suave        1134\n                          Curva Acentuada     902\nName: count, dtype: int64"
     },
     "execution_count": 58,
     "metadata": {},
     "output_type": "execute_result"
    }
   ],
   "source": [
    "df.groupby(['Gravidade', 'CondicaoPista'])['TracadoPista'].value_counts()"
   ],
   "metadata": {
    "collapsed": false,
    "ExecuteTime": {
     "end_time": "2024-04-08T20:27:37.071788500Z",
     "start_time": "2024-04-08T20:27:36.790803100Z"
    }
   },
   "id": "9067f9af6653dc29",
   "execution_count": 58
  },
  {
   "cell_type": "code",
   "outputs": [],
   "source": [
    "df_teste = df[['Gravidade', 'Sexo', 'Faixa_Etaria', 'CondicaoPista', 'PerfilPista', 'Estacao', 'Período', 'TipoAcidente', 'TracadoPista', 'TipoLocal', 'Motocicleta', 'Veiculo_Leve', 'Veiculo_Pesado', 'Veiculo_Passageiro', 'Volume_Log', 'Num_Veiculos', 'Cluster']].copy()\n",
    "\n",
    "nova = pd.DataFrame()\n",
    "for column in df_teste.columns:\n",
    "    auxiliar = pd.DataFrame()\n",
    "    auxiliar['Count'] = df_teste.groupby(column)['Gravidade'].value_counts()\n",
    "    auxiliar['Variaveis'] = column\n",
    "    auxiliar.reset_index(names= ['Categoria', 'Gravidade'], inplace=True)\n",
    "    \n",
    "    nova = pd.concat([nova, auxiliar])\n",
    "    \n",
    "#auxiliar.reset_index(names= ['Gravidade', 'Categoria'], inplace=True)\n",
    "nova = nova[['Variaveis', 'Gravidade', 'Categoria', 'Count']]\n",
    "\n",
    "nova.to_csv('excluir.csv', encoding='latin1')"
   ],
   "metadata": {
    "collapsed": false,
    "ExecuteTime": {
     "end_time": "2024-04-08T14:40:55.425803200Z",
     "start_time": "2024-04-08T14:40:54.676768300Z"
    }
   },
   "id": "bc005173e74ff768",
   "execution_count": 57
  }
 ],
 "metadata": {
  "kernelspec": {
   "display_name": "Python 3",
   "language": "python",
   "name": "python3"
  },
  "language_info": {
   "codemirror_mode": {
    "name": "ipython",
    "version": 2
   },
   "file_extension": ".py",
   "mimetype": "text/x-python",
   "name": "python",
   "nbconvert_exporter": "python",
   "pygments_lexer": "ipython2",
   "version": "2.7.6"
  }
 },
 "nbformat": 4,
 "nbformat_minor": 5
}
